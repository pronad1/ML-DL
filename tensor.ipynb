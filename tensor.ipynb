{
 "cells": [
  {
   "cell_type": "markdown",
   "id": "220cf7b6",
   "metadata": {},
   "source": [
    "### Impot necessary library"
   ]
  },
  {
   "cell_type": "code",
   "execution_count": 20,
   "id": "9cffc230",
   "metadata": {},
   "outputs": [],
   "source": [
    "import numpy as np"
   ]
  },
  {
   "cell_type": "markdown",
   "id": "bc80f96a",
   "metadata": {},
   "source": [
    "### 0D Tensor"
   ]
  },
  {
   "cell_type": "code",
   "execution_count": 21,
   "id": "f666614c",
   "metadata": {},
   "outputs": [
    {
     "name": "stdout",
     "output_type": "stream",
     "text": [
      "The Tensor is: 49 \n",
      " The dimension of the Tensor is: 0\n"
     ]
    }
   ],
   "source": [
    "a=np.array(49)\n",
    "print(\"The Tensor is:\",a,\"\\n\",\"The dimension of the Tensor is:\",a.ndim)"
   ]
  },
  {
   "cell_type": "markdown",
   "id": "766ddc1c",
   "metadata": {},
   "source": [
    "### 1D Tensor"
   ]
  },
  {
   "cell_type": "code",
   "execution_count": 22,
   "id": "4d07d22f",
   "metadata": {},
   "outputs": [
    {
     "name": "stdout",
     "output_type": "stream",
     "text": [
      "The Tensor is: [1 2 3 4 5] \n",
      " The dimension of the Tensor is: 1\n"
     ]
    }
   ],
   "source": [
    "a=np.array([1,2,3,4,5])\n",
    "print(\"The Tensor is:\",a,\"\\n\",\"The dimension of the Tensor is:\",a.ndim)"
   ]
  },
  {
   "cell_type": "markdown",
   "id": "475c17ca",
   "metadata": {},
   "source": [
    "### 2D Tensor"
   ]
  },
  {
   "cell_type": "code",
   "execution_count": 23,
   "id": "686bd901",
   "metadata": {},
   "outputs": [
    {
     "data": {
      "text/plain": [
       "array([[1, 2, 3],\n",
       "       [4, 5, 6],\n",
       "       [7, 8, 9]])"
      ]
     },
     "execution_count": 23,
     "metadata": {},
     "output_type": "execute_result"
    }
   ],
   "source": [
    "a=np.array([[1,2,3],[4,5,6],[7,8,9]])\n",
    "a"
   ]
  },
  {
   "cell_type": "code",
   "execution_count": 24,
   "id": "6ef25f6a",
   "metadata": {},
   "outputs": [
    {
     "data": {
      "text/plain": [
       "2"
      ]
     },
     "execution_count": 24,
     "metadata": {},
     "output_type": "execute_result"
    }
   ],
   "source": [
    "a.ndim"
   ]
  },
  {
   "cell_type": "markdown",
   "id": "76f69f59",
   "metadata": {},
   "source": [
    "### 3D Tensor"
   ]
  },
  {
   "cell_type": "code",
   "execution_count": 25,
   "id": "abc9df9e",
   "metadata": {},
   "outputs": [
    {
     "data": {
      "text/plain": [
       "array([[[ 1,  2,  3],\n",
       "        [ 4,  5,  6]],\n",
       "\n",
       "       [[10, 11, 12],\n",
       "        [13, 14, 15]],\n",
       "\n",
       "       [[19, 20, 21],\n",
       "        [22, 23, 24]]])"
      ]
     },
     "execution_count": 25,
     "metadata": {},
     "output_type": "execute_result"
    }
   ],
   "source": [
    "a=np.array([[   [1,2,3],[4,5,6]],\n",
    "            [  [10,11,12],[13,14,15]],\n",
    "            [  [19,20,21],[22,23,24]]])\n",
    "a"
   ]
  },
  {
   "cell_type": "code",
   "execution_count": 26,
   "id": "c4ba6cf3",
   "metadata": {},
   "outputs": [
    {
     "name": "stdout",
     "output_type": "stream",
     "text": [
      "The Rank of the Tensor:  3\n"
     ]
    }
   ],
   "source": [
    "print(\"The Rank of the Tensor: \",a.ndim)"
   ]
  },
  {
   "cell_type": "markdown",
   "id": "77362961",
   "metadata": {},
   "source": [
    "### No. of axis = Rank = No. of Dimension"
   ]
  },
  {
   "cell_type": "markdown",
   "id": "8924c580",
   "metadata": {},
   "source": [
    "### Shape of the Tensor "
   ]
  },
  {
   "cell_type": "code",
   "execution_count": 27,
   "id": "f04adb57",
   "metadata": {},
   "outputs": [
    {
     "data": {
      "text/plain": [
       "(3, 2, 3)"
      ]
     },
     "execution_count": 27,
     "metadata": {},
     "output_type": "execute_result"
    }
   ],
   "source": [
    "a.shape"
   ]
  },
  {
   "cell_type": "markdown",
   "id": "46411064",
   "metadata": {},
   "source": [
    "### That the shape mean the maximum size of each axis"
   ]
  },
  {
   "cell_type": "markdown",
   "id": "942f6ed8",
   "metadata": {},
   "source": [
    "### The size of the Tensor"
   ]
  },
  {
   "cell_type": "code",
   "execution_count": 28,
   "id": "cc4dad95",
   "metadata": {},
   "outputs": [
    {
     "data": {
      "text/plain": [
       "18"
      ]
     },
     "execution_count": 28,
     "metadata": {},
     "output_type": "execute_result"
    }
   ],
   "source": [
    "a.size"
   ]
  },
  {
   "cell_type": "markdown",
   "id": "4b015485",
   "metadata": {},
   "source": [
    "### That the size mean the total number of data "
   ]
  }
 ],
 "metadata": {
  "kernelspec": {
   "display_name": "Python 3",
   "language": "python",
   "name": "python3"
  },
  "language_info": {
   "codemirror_mode": {
    "name": "ipython",
    "version": 3
   },
   "file_extension": ".py",
   "mimetype": "text/x-python",
   "name": "python",
   "nbconvert_exporter": "python",
   "pygments_lexer": "ipython3",
   "version": "3.13.7"
  }
 },
 "nbformat": 4,
 "nbformat_minor": 5
}
