{
 "cells": [
  {
   "cell_type": "code",
   "execution_count": 1,
   "id": "d85ba15a",
   "metadata": {},
   "outputs": [],
   "source": [
    "# install kaggle\n",
    "!pip install -q kaggle"
   ]
  },
  {
   "cell_type": "code",
   "execution_count": null,
   "id": "367cee0a",
   "metadata": {},
   "outputs": [],
   "source": [
    "from google.colab import files\n",
    "files.upload()"
   ]
  },
  {
   "cell_type": "code",
   "execution_count": null,
   "id": "5cb8478e",
   "metadata": {},
   "outputs": [],
   "source": [
    "# create a kaggle folder\n",
    "! mkdir ~/.kaggle"
   ]
  },
  {
   "cell_type": "code",
   "execution_count": null,
   "id": "fd532e9b",
   "metadata": {},
   "outputs": [],
   "source": [
    "# copy the kaggle.json to folder created\n",
    "! cp kaggle.json ~/.kaggle/"
   ]
  },
  {
   "cell_type": "code",
   "execution_count": null,
   "id": "eff3bce6",
   "metadata": {},
   "outputs": [],
   "source": [
    "# Permission for the json to act\n",
    "! chmod 600 ~/.kaggle/kaggle.json"
   ]
  },
  {
   "cell_type": "code",
   "execution_count": null,
   "id": "e7860fb1",
   "metadata": {},
   "outputs": [],
   "source": [
    "# to list all datasets in kaggle \n",
    "! kaggle datasets list"
   ]
  },
  {
   "cell_type": "code",
   "execution_count": null,
   "id": "3fa40d58",
   "metadata": {},
   "outputs": [],
   "source": [
    "# Dataset api link from kaggle\n",
    "!kaggle competitions download -c dog-vs-cat-vs-bird"
   ]
  },
  {
   "cell_type": "code",
   "execution_count": null,
   "id": "08bd5455",
   "metadata": {},
   "outputs": [],
   "source": [
    "# unzip the dataset\n",
    "!unzip dog-vs-cat-vs-bird.zip"
   ]
  },
  {
   "cell_type": "markdown",
   "id": "73dd651a",
   "metadata": {},
   "source": [
    "## Load sample images\n",
    "\n",
    "### Subtask:\n",
    "Select and load a few sample images from each category (dog, cat, bird) for visualization.\n"
   ]
  },
  {
   "cell_type": "markdown",
   "id": "57d6eac6",
   "metadata": {},
   "source": [
    "**Reasoning**:\n",
    "Select and load sample images from each category for visualization in the next step.\n",
    "\n"
   ]
  },
  {
   "cell_type": "code",
   "execution_count": null,
   "id": "99bb8075",
   "metadata": {},
   "outputs": [],
   "source": [
    "import os\n",
    "import cv2\n",
    "\n",
    "# Define paths to image directories\n",
    "train_dir = '/content/dataset/train'\n",
    "dog_dir = os.path.join(train_dir, 'dog')\n",
    "cat_dir = os.path.join(train_dir, 'cat')\n",
    "bird_dir = os.path.join(train_dir, 'bird')\n",
    "\n",
    "# Get list of filenames for each category\n",
    "dog_files = os.listdir(dog_dir)\n",
    "cat_files = os.listdir(cat_dir)\n",
    "bird_files = os.listdir(bird_dir)\n",
    "\n",
    "# Select a few sample filenames from each category\n",
    "num_samples = 3\n",
    "sample_dog_files = dog_files[:num_samples]\n",
    "sample_cat_files = cat_files[:num_samples]\n",
    "sample_bird_files = bird_files[:num_samples]\n",
    "\n",
    "# Load the sample images and store them with their labels\n",
    "sample_images = []\n",
    "for filename in sample_dog_files:\n",
    "    img_path = os.path.join(dog_dir, filename)\n",
    "    img = cv2.imread(img_path)\n",
    "    sample_images.append({'image': img, 'label': 'dog'})\n",
    "\n",
    "for filename in sample_cat_files:\n",
    "    img_path = os.path.join(cat_dir, filename)\n",
    "    img = cv2.imread(img_path)\n",
    "    sample_images.append({'image': img, 'label': 'cat'})\n",
    "\n",
    "for filename in sample_bird_files:\n",
    "    img_path = os.path.join(bird_dir, filename)\n",
    "    img = cv2.imread(img_path)\n",
    "    sample_images.append({'image': img, 'label': 'bird'})\n",
    "\n",
    "print(f\"Loaded {len(sample_images)} sample images.\")"
   ]
  },
  {
   "cell_type": "markdown",
   "id": "5a7cadbd",
   "metadata": {},
   "source": [
    "## Display sample images\n",
    "\n",
    "### Subtask:\n",
    "Show the loaded sample images along with their corresponding labels.\n"
   ]
  },
  {
   "cell_type": "markdown",
   "id": "5a3022aa",
   "metadata": {},
   "source": [
    "**Reasoning**:\n",
    "Visualize the loaded sample images with their labels.\n",
    "\n"
   ]
  },
  {
   "cell_type": "code",
   "execution_count": null,
   "id": "c716a547",
   "metadata": {},
   "outputs": [],
   "source": [
    "import matplotlib.pyplot as plt\n",
    "import cv2\n",
    "\n",
    "num_samples = len(sample_images)\n",
    "num_cols = 3  # Number of columns for the plot\n",
    "num_rows = (num_samples + num_cols - 1) // num_cols  # Calculate rows needed\n",
    "\n",
    "plt.figure(figsize=(12, num_rows * 4))\n",
    "\n",
    "for i, sample in enumerate(sample_images):\n",
    "    plt.subplot(num_rows, num_cols, i + 1)\n",
    "    img_rgb = cv2.cvtColor(sample['image'], cv2.COLOR_BGR2RGB)\n",
    "    plt.imshow(img_rgb)\n",
    "    plt.title(sample['label'])\n",
    "    plt.axis('off')\n",
    "\n",
    "plt.tight_layout()\n",
    "plt.show()"
   ]
  }
 ],
 "metadata": {
  "kernelspec": {
   "display_name": "Python 3",
   "language": "python",
   "name": "python3"
  },
  "language_info": {
   "codemirror_mode": {
    "name": "ipython",
    "version": 3
   },
   "file_extension": ".py",
   "mimetype": "text/x-python",
   "name": "python",
   "nbconvert_exporter": "python",
   "pygments_lexer": "ipython3",
   "version": "3.13.7"
  }
 },
 "nbformat": 4,
 "nbformat_minor": 5
}
