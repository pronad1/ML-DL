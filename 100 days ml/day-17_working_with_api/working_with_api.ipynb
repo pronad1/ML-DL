{
 "cells": [
  {
   "cell_type": "markdown",
   "id": "80526c20",
   "metadata": {},
   "source": [
    "### Work with API\n",
    "- API is nothing but data pipeline"
   ]
  },
  {
   "cell_type": "code",
   "execution_count": 25,
   "id": "6c4faeb1",
   "metadata": {},
   "outputs": [],
   "source": [
    "import pandas as pd\n",
    "import requests"
   ]
  },
  {
   "cell_type": "code",
   "execution_count": 26,
   "id": "9741ece9",
   "metadata": {},
   "outputs": [],
   "source": [
    "response = requests.get('https://api.themoviedb.org/3/movie/top_rated?api_key=eb71c0c754d49f9b08fe183898fa606f&language=en-US&page=1')"
   ]
  },
  {
   "cell_type": "code",
   "execution_count": 27,
   "id": "67a790bb",
   "metadata": {},
   "outputs": [],
   "source": [
    "df=pd.DataFrame(response.json()['results'])[['id', 'title','overview','release_date','popularity', 'vote_average', 'vote_count']]"
   ]
  },
  {
   "cell_type": "code",
   "execution_count": 28,
   "id": "57013d7c",
   "metadata": {},
   "outputs": [
    {
     "data": {
      "text/html": [
       "<div>\n",
       "<style scoped>\n",
       "    .dataframe tbody tr th:only-of-type {\n",
       "        vertical-align: middle;\n",
       "    }\n",
       "\n",
       "    .dataframe tbody tr th {\n",
       "        vertical-align: top;\n",
       "    }\n",
       "\n",
       "    .dataframe thead th {\n",
       "        text-align: right;\n",
       "    }\n",
       "</style>\n",
       "<table border=\"1\" class=\"dataframe\">\n",
       "  <thead>\n",
       "    <tr style=\"text-align: right;\">\n",
       "      <th></th>\n",
       "      <th>id</th>\n",
       "      <th>title</th>\n",
       "      <th>overview</th>\n",
       "      <th>release_date</th>\n",
       "      <th>popularity</th>\n",
       "      <th>vote_average</th>\n",
       "      <th>vote_count</th>\n",
       "    </tr>\n",
       "  </thead>\n",
       "  <tbody>\n",
       "    <tr>\n",
       "      <th>0</th>\n",
       "      <td>278</td>\n",
       "      <td>The Shawshank Redemption</td>\n",
       "      <td>Imprisoned in the 1940s for the double murder ...</td>\n",
       "      <td>1994-09-23</td>\n",
       "      <td>28.1380</td>\n",
       "      <td>8.700</td>\n",
       "      <td>28779</td>\n",
       "    </tr>\n",
       "    <tr>\n",
       "      <th>1</th>\n",
       "      <td>238</td>\n",
       "      <td>The Godfather</td>\n",
       "      <td>Spanning the years 1945 to 1955, a chronicle o...</td>\n",
       "      <td>1972-03-14</td>\n",
       "      <td>25.8674</td>\n",
       "      <td>8.686</td>\n",
       "      <td>21766</td>\n",
       "    </tr>\n",
       "    <tr>\n",
       "      <th>2</th>\n",
       "      <td>240</td>\n",
       "      <td>The Godfather Part II</td>\n",
       "      <td>In the continuing saga of the Corleone crime f...</td>\n",
       "      <td>1974-12-20</td>\n",
       "      <td>15.1316</td>\n",
       "      <td>8.571</td>\n",
       "      <td>13141</td>\n",
       "    </tr>\n",
       "    <tr>\n",
       "      <th>3</th>\n",
       "      <td>424</td>\n",
       "      <td>Schindler's List</td>\n",
       "      <td>The true story of how businessman Oskar Schind...</td>\n",
       "      <td>1993-12-15</td>\n",
       "      <td>13.0564</td>\n",
       "      <td>8.565</td>\n",
       "      <td>16659</td>\n",
       "    </tr>\n",
       "    <tr>\n",
       "      <th>4</th>\n",
       "      <td>389</td>\n",
       "      <td>12 Angry Men</td>\n",
       "      <td>The defense and the prosecution have rested an...</td>\n",
       "      <td>1957-04-10</td>\n",
       "      <td>15.7736</td>\n",
       "      <td>8.548</td>\n",
       "      <td>9353</td>\n",
       "    </tr>\n",
       "  </tbody>\n",
       "</table>\n",
       "</div>"
      ],
      "text/plain": [
       "    id                     title  \\\n",
       "0  278  The Shawshank Redemption   \n",
       "1  238             The Godfather   \n",
       "2  240     The Godfather Part II   \n",
       "3  424          Schindler's List   \n",
       "4  389              12 Angry Men   \n",
       "\n",
       "                                            overview release_date  popularity  \\\n",
       "0  Imprisoned in the 1940s for the double murder ...   1994-09-23     28.1380   \n",
       "1  Spanning the years 1945 to 1955, a chronicle o...   1972-03-14     25.8674   \n",
       "2  In the continuing saga of the Corleone crime f...   1974-12-20     15.1316   \n",
       "3  The true story of how businessman Oskar Schind...   1993-12-15     13.0564   \n",
       "4  The defense and the prosecution have rested an...   1957-04-10     15.7736   \n",
       "\n",
       "   vote_average  vote_count  \n",
       "0         8.700       28779  \n",
       "1         8.686       21766  \n",
       "2         8.571       13141  \n",
       "3         8.565       16659  \n",
       "4         8.548        9353  "
      ]
     },
     "execution_count": 28,
     "metadata": {},
     "output_type": "execute_result"
    }
   ],
   "source": [
    "df.head()"
   ]
  },
  {
   "cell_type": "markdown",
   "id": "45f03e93",
   "metadata": {},
   "source": [
    "### For store all movies"
   ]
  },
  {
   "cell_type": "code",
   "execution_count": 29,
   "id": "786b6697",
   "metadata": {},
   "outputs": [],
   "source": [
    "df=pd.DataFrame()"
   ]
  },
  {
   "cell_type": "code",
   "execution_count": 30,
   "id": "88ed5013",
   "metadata": {},
   "outputs": [
    {
     "data": {
      "text/html": [
       "<div>\n",
       "<style scoped>\n",
       "    .dataframe tbody tr th:only-of-type {\n",
       "        vertical-align: middle;\n",
       "    }\n",
       "\n",
       "    .dataframe tbody tr th {\n",
       "        vertical-align: top;\n",
       "    }\n",
       "\n",
       "    .dataframe thead th {\n",
       "        text-align: right;\n",
       "    }\n",
       "</style>\n",
       "<table border=\"1\" class=\"dataframe\">\n",
       "  <thead>\n",
       "    <tr style=\"text-align: right;\">\n",
       "      <th></th>\n",
       "    </tr>\n",
       "  </thead>\n",
       "  <tbody>\n",
       "  </tbody>\n",
       "</table>\n",
       "</div>"
      ],
      "text/plain": [
       "Empty DataFrame\n",
       "Columns: []\n",
       "Index: []"
      ]
     },
     "execution_count": 30,
     "metadata": {},
     "output_type": "execute_result"
    }
   ],
   "source": [
    "df"
   ]
  },
  {
   "cell_type": "code",
   "execution_count": 32,
   "id": "2e1ecaf6",
   "metadata": {},
   "outputs": [],
   "source": [
    "for i in range(1,429):\n",
    "    response = requests.get('https://api.themoviedb.org/3/movie/top_rated?api_key=eb71c0c754d49f9b08fe183898fa606f&language=en-US&page={}'.format(i))\n",
    "    temp_df = pd.DataFrame(response.json()['results'])[['id', 'title','overview','release_date','popularity', 'vote_average', 'vote_count']]\n",
    "    df = pd.concat([df, temp_df], ignore_index=True)\n"
   ]
  },
  {
   "cell_type": "code",
   "execution_count": 34,
   "id": "2e58eb5e",
   "metadata": {},
   "outputs": [
    {
     "data": {
      "text/plain": [
       "(8560, 7)"
      ]
     },
     "execution_count": 34,
     "metadata": {},
     "output_type": "execute_result"
    }
   ],
   "source": [
    "df.shape"
   ]
  },
  {
   "cell_type": "code",
   "execution_count": 35,
   "id": "71f05a7e",
   "metadata": {},
   "outputs": [],
   "source": [
    "df.to_csv('top_rated_movies.csv', index=False)"
   ]
  },
  {
   "cell_type": "code",
   "execution_count": null,
   "id": "34b61954",
   "metadata": {},
   "outputs": [],
   "source": []
  }
 ],
 "metadata": {
  "kernelspec": {
   "display_name": "Python 3",
   "language": "python",
   "name": "python3"
  },
  "language_info": {
   "codemirror_mode": {
    "name": "ipython",
    "version": 3
   },
   "file_extension": ".py",
   "mimetype": "text/x-python",
   "name": "python",
   "nbconvert_exporter": "python",
   "pygments_lexer": "ipython3",
   "version": "3.13.7"
  }
 },
 "nbformat": 4,
 "nbformat_minor": 5
}
