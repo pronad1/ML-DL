{
 "cells": [
  {
   "cell_type": "markdown",
   "id": "7c1f0d46",
   "metadata": {},
   "source": [
    "### How can change the value of the cofficient."
   ]
  },
  {
   "cell_type": "markdown",
   "id": "1648c1c2",
   "metadata": {},
   "source": [
    "![Line Position](line_position.png)"
   ]
  }
 ],
 "metadata": {
  "language_info": {
   "name": "python"
  }
 },
 "nbformat": 4,
 "nbformat_minor": 5
}
