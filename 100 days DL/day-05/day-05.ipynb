{
 "cells": [
  {
   "cell_type": "markdown",
   "id": "7c1f0d46",
   "metadata": {},
   "source": [
    "### How can change the value of the cofficient."
   ]
  },
  {
   "cell_type": "markdown",
   "id": "1648c1c2",
   "metadata": {},
   "source": [
    "![Line Position](line_position.png)"
   ]
  },
  {
   "cell_type": "code",
   "execution_count": 1,
   "id": "130b9d6e",
   "metadata": {},
   "outputs": [],
   "source": [
    "from sklearn.datasets import make_classification\n",
    "import numpy as np\n",
    "X, y = make_classification(n_samples=1000, n_features=2, n_informative=1, n_redundant=0, \n",
    "n_classes=2, n_clusters_per_class=1, hypercube=False, class_sep=10,random_state=41)"
   ]
  },
  {
   "cell_type": "code",
   "execution_count": 2,
   "id": "0c7b736c",
   "metadata": {},
   "outputs": [],
   "source": [
    "import matplotlib.pyplot as plt"
   ]
  },
  {
   "cell_type": "code",
   "execution_count": null,
   "id": "c2416194",
   "metadata": {},
   "outputs": [],
   "source": []
  }
 ],
 "metadata": {
  "kernelspec": {
   "display_name": "Python 3",
   "language": "python",
   "name": "python3"
  },
  "language_info": {
   "codemirror_mode": {
    "name": "ipython",
    "version": 3
   },
   "file_extension": ".py",
   "mimetype": "text/x-python",
   "name": "python",
   "nbconvert_exporter": "python",
   "pygments_lexer": "ipython3",
   "version": "3.13.7"
  }
 },
 "nbformat": 4,
 "nbformat_minor": 5
}
