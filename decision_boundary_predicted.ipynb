{
 "cells": [
  {
   "cell_type": "markdown",
   "id": "bdabad5f",
   "metadata": {},
   "source": [
    "### Demo Classification and Multilayer Perceptron\n"
   ]
  },
  {
   "cell_type": "code",
   "execution_count": null,
   "id": "f0eadff2",
   "metadata": {},
   "outputs": [],
   "source": [
    "# Import necessary libraries\n",
    "import numpy as np\n",
    "import matplotlib.pyplot as plt\n",
    "from sklearn.datasets import make_circles\n",
    "from sklearn.neural_network import MLPClassifier\n",
    "import ipywidgets as widgets\n",
    "from IPython.display import display\n",
    "from ipywidgets import interactive"
   ]
  },
  {
   "cell_type": "code",
   "execution_count": null,
   "id": "5f70b5fb",
   "metadata": {},
   "outputs": [],
   "source": [
    "# Function to update and display  the plot\n",
    "def update_plot(hidden_layer_size):\n",
    "    # Generate synthetic data\n",
    "    X,y = make_circles(n_samples=100, noise=0.1, factor=0.5, random_state=0)\n",
    "\n",
    "    # Create a multi-layer perceptron classifier\n",
    "    clf=MLPClassifier(hidden_layer_sizes=(hidden_layer_size,),\n",
    "                     activation='relu', max_iter=3000, random_state=1)\n",
    "    # Fit the model\n",
    "    clf.fit(X, y)\n",
    "\n",
    "    # Create a grid of points for visualization\n",
    "    x_vals=np.linspace(X[:,0].min() - 0.1, X[:,1].max() + 0.1, 100)\n",
    "    y_vals=np.linspace(X[:,1].min() - 0.1, X[:,1].max() + 0.1, 100)\n",
    "\n",
    "    # The resulting X_plane and Y_plane are both 100 X 100 arrays,\n",
    "    # Representing a grid of 10,000 points.\n",
    "    X_plane, Y_plane=np.meshgrid(x_vals, y_vals)\n",
    "\n",
    "    # grid_points is a single 2D array (grid_points) of shape (10000, 2),\n",
    "    # where a grid of 10,000 point.\n",
    "    grid_points = np.column_stack((X_plane.ravel(), Y_plane.ravel()))\n",
    "    \n",
    "    # Predict the class labels for the grid points (for decision boundary)\n",
    "    Z=clf.predict(grid_points)\n",
    "\n",
    "    # Z.reshape(X_plane.shape) reshapes Z into a 100 X 100 array,\n",
    "    Z=Z.reshape(X_plane.shape)\n",
    "\n",
    "    # Predict class labels for the original data points\n",
    "    y_pred=clf.predict(X)\n",
    "\n",
    "    # Clear previous plots\n",
    "    plt.clf()\n",
    "\n",
    "    # Plot the decision boundary\n",
    "    # It is often used to visualize the decision boundary of a model by plotting\n",
    "    # The predicted class probabilities or labels across a grid of points.\n",
    "    plt.contourf(X_plane, Y_plane, Z, levels=[-0.5, 0.5, 1.5], alpha=0.6,cmpa=plt.cm.RdYlGn)\n",
    "\n",
    "    # Plot the original data points with their predicted labels\n",
    "    # Separat points for each predicted class\n",
    "    class_0=y_pred == 0   # Indicates points predicted as class 0\n",
    "    class_1=y_pred == 1   # Indicates points predicted as class 1\n",
    "\n",
    "    plt.scatter(X[class_0, 0], X[class_0, 1], c='red', edgecolor='k', marker='o', s=50, label='Predicate Class 0')\n",
    "    plt.scatter(X[class_1, 0], X[class_1, 1], c='blue', edgecolor='k', marker='o', s=50, label='Predicate Class 1')\n",
    "\n",
    "    # Add labels and title\n",
    "    plt.xlabel('Feature 1') \n",
    "    plt.ylabel('Feature 2')\n",
    "    plt.title(f'Decision Boundary and Predicted Labels (Hidden Layer Size={hidden_layer_sizes})')\n",
    "    plt.legend()\n",
    "    plt.show()\n",
    "\n",
    "    # Create a slider for hidden layer size\n",
    "    hidden_layer_size_slider=widgets.IntSlider(value=1, min=1, max=10, step=1, description='Hidden Layer Size:')\n",
    "\n",
    "    # Create an interactive widget\n",
    "    interactive_plot=interactive(update_plot, hidden_layer_sizes=hidden_layer_size_slider)\n",
    "\n",
    "    # Display the interactive widget\n",
    "    display(interactive_plot)   "
   ]
  }
 ],
 "metadata": {
  "kernelspec": {
   "display_name": "Python 3",
   "language": "python",
   "name": "python3"
  },
  "language_info": {
   "codemirror_mode": {
    "name": "ipython",
    "version": 3
   },
   "file_extension": ".py",
   "mimetype": "text/x-python",
   "name": "python",
   "nbconvert_exporter": "python",
   "pygments_lexer": "ipython3",
   "version": "3.13.7"
  }
 },
 "nbformat": 4,
 "nbformat_minor": 5
}
