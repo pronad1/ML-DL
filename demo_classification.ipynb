{
 "cells": [
  {
   "cell_type": "markdown",
   "id": "aab0b6c9",
   "metadata": {},
   "source": [
    "## Demo-DEEP-Learning\n",
    "-plot of points with labels"
   ]
  },
  {
   "cell_type": "code",
   "execution_count": null,
   "id": "d4b76726",
   "metadata": {
    "vscode": {
     "languageId": "plaintext"
    }
   },
   "outputs": [],
   "source": [
    "# import "
   ]
  }
 ],
 "metadata": {
  "language_info": {
   "name": "python"
  }
 },
 "nbformat": 4,
 "nbformat_minor": 5
}
